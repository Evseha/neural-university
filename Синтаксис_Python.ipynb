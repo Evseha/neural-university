{
  "nbformat": 4,
  "nbformat_minor": 0,
  "metadata": {
    "colab": {
      "provenance": [],
      "include_colab_link": true
    },
    "kernelspec": {
      "display_name": "Python 3",
      "name": "python3"
    },
    "language_info": {
      "name": "python"
    }
  },
  "cells": [
    {
      "cell_type": "markdown",
      "metadata": {
        "id": "view-in-github",
        "colab_type": "text"
      },
      "source": [
        "<a href=\"https://colab.research.google.com/github/Evseha/neural-university/blob/main/%D0%A1%D0%B8%D0%BD%D1%82%D0%B0%D0%BA%D1%81%D0%B8%D1%81_Python.ipynb\" target=\"_parent\"><img src=\"https://colab.research.google.com/assets/colab-badge.svg\" alt=\"Open In Colab\"/></a>"
      ]
    },
    {
      "cell_type": "markdown",
      "metadata": {
        "id": "39zJTivLrXFV"
      },
      "source": [
        "### Задача 1"
      ]
    },
    {
      "cell_type": "markdown",
      "metadata": {
        "id": "8YhhSW05rc1o"
      },
      "source": [
        "Напишем программу, которая просит пользователя ввести произвольную цифру от 1 до 9, а затем выводит таблицу умножения для введенного числа.\n",
        "\n",
        "Добавим проверку введенной пользователем информации:\n",
        "* данные должны быть целочисленного типа\n",
        "* число должно находиться в диапазоне от 1 до 9"
      ]
    },
    {
      "cell_type": "code",
      "metadata": {
        "id": "ye9ErHpKBhhU",
        "colab": {
          "base_uri": "https://localhost:8080/"
        },
        "outputId": "d2dba4d7-ada3-4c42-dad3-6c835caec0e8"
      },
      "source": [
        "integ = input(\"Введите произвольную цифру от 1 до 9: \")\n",
        "for i in range(1,10):\n",
        "  if int(integ) <= 9:\n",
        "    print(f'{integ} * {i} =  {int(integ) * i}')\n",
        "  else:\n",
        "    print(\"Вы ввели не корректную информацию\")"
      ],
      "execution_count": null,
      "outputs": [
        {
          "output_type": "stream",
          "name": "stdout",
          "text": [
            "Введите произвольную цифру от 1 до 9: 2\n",
            "2 * 1 =  2\n",
            "2 * 2 =  4\n",
            "2 * 3 =  6\n",
            "2 * 4 =  8\n",
            "2 * 5 =  10\n",
            "2 * 6 =  12\n",
            "2 * 7 =  14\n",
            "2 * 8 =  16\n",
            "2 * 9 =  18\n"
          ]
        }
      ]
    },
    {
      "cell_type": "markdown",
      "metadata": {
        "id": "dT9n_KJtpS-N"
      },
      "source": [
        "## Задача 2"
      ]
    },
    {
      "cell_type": "markdown",
      "metadata": {
        "id": "OTSU9QTLhdqe"
      },
      "source": [
        "Напишем программу, которая ищет все числа в интервале от 300 до 430 включительно, делящиеся на 11, но не делящиеся на 5. Выведим на экран все найденные числа."
      ]
    },
    {
      "cell_type": "code",
      "metadata": {
        "id": "lFWrMa8Uh9dc",
        "colab": {
          "base_uri": "https://localhost:8080/"
        },
        "outputId": "53bb4fd7-57e5-4e9c-c17d-77bb5b7dfa04"
      },
      "source": [
        "for i in range(300,431):\n",
        "  if i % 11 == 0:\n",
        "    if i % 5 != 0:\n",
        "      print(i, end=', ')"
      ],
      "execution_count": null,
      "outputs": [
        {
          "output_type": "stream",
          "name": "stdout",
          "text": [
            "308, 319, 341, 352, 363, 374, 396, 407, 418, 429, "
          ]
        }
      ]
    },
    {
      "cell_type": "markdown",
      "metadata": {
        "id": "BDz6HXvPxsYs"
      },
      "source": [
        "### Задача 3"
      ]
    },
    {
      "cell_type": "markdown",
      "metadata": {
        "id": "_b21x2ryxziN"
      },
      "source": [
        "Напишем функцию, которая принимает один параметр (год) и определяет, является ли этот год високосным.\n",
        "\n",
        "Напомним, что ***високосными*** годами считаются те, порядковый номер которых либо кратен **4**, но при этом не кратен **100**, либо кратен **400** (например, 2000-й год являлся високосным, а 2100-й будет не високосным годом).\n",
        "\n",
        "Программа должна корректно работать на числах **1900 ≤ n ≤ 3000**.\n",
        "\n",
        "Функция должна вывести на экран \"Високосный\" в случае, если год является високосным и \"Обычный\" в противном случае."
      ]
    },
    {
      "cell_type": "code",
      "metadata": {
        "id": "W2LFTkVAeDE_",
        "colab": {
          "base_uri": "https://localhost:8080/"
        },
        "outputId": "6c99aa95-442a-46eb-e2b9-c623a42bccec"
      },
      "source": [
        "year = int(input(\"Введите произвольный год от 1900 до 3000: \"))\n",
        "if (year % 4 == 0 and year % 100 != 0) or year % 400 ==0:\n",
        "  print('Високосный', end=\" \")\n",
        "else:\n",
        "  print('Обычный', end=' ')"
      ],
      "execution_count": null,
      "outputs": [
        {
          "output_type": "stream",
          "name": "stdout",
          "text": [
            "Введите произвольный год от 1900 до 3000: 2004\n",
            "Високосный "
          ]
        }
      ]
    },
    {
      "cell_type": "markdown",
      "metadata": {
        "id": "9sr2U6oz1Iqu"
      },
      "source": [
        "### Задача 4"
      ]
    },
    {
      "cell_type": "markdown",
      "metadata": {
        "id": "fHMBDh-ahdrz"
      },
      "source": [
        "Создадим словарь (dict) c ключами, соответствующими числам от 1 до 10 включительно и значениями, соответствующими квадратам ключей."
      ]
    },
    {
      "cell_type": "code",
      "metadata": {
        "id": "qpzOKGoXgzwQ",
        "colab": {
          "base_uri": "https://localhost:8080/"
        },
        "outputId": "fefc4bff-4f18-4490-ab2f-4932e1921ec5"
      },
      "source": [
        "my_dict = {i:i**2 for i in range(1, 11)}\n",
        "print(my_dict)"
      ],
      "execution_count": null,
      "outputs": [
        {
          "output_type": "stream",
          "name": "stdout",
          "text": [
            "{1: 1, 2: 4, 3: 9, 4: 16, 5: 25, 6: 36, 7: 49, 8: 64, 9: 81, 10: 100}\n"
          ]
        }
      ]
    },
    {
      "cell_type": "markdown",
      "metadata": {
        "id": "1GnNaeQ4zwt1"
      },
      "source": [
        "### Задача 5"
      ]
    },
    {
      "cell_type": "markdown",
      "metadata": {
        "id": "Rz5_LNzlr7GR"
      },
      "source": [
        "Напишем функцию простейшего калькулятора. Пользователь вводит число **a**, число **b** и вид арифметической операции над ними. Функция возвращает результат вычисления."
      ]
    },
    {
      "cell_type": "code",
      "metadata": {
        "id": "DD8u-nSnl41M",
        "colab": {
          "base_uri": "https://localhost:8080/"
        },
        "outputId": "72060ff2-dabe-4ed6-928b-a3c4e188adfa"
      },
      "source": [
        "def calc(a:int, b:int, c:str) -> any:\n",
        "  if c == '+':\n",
        "    return a + b\n",
        "  elif c == '-':\n",
        "    return a - b\n",
        "  elif c == \"*\":\n",
        "    return a * b\n",
        "  elif c == '/':\n",
        "    return a / b\n",
        "  else:\n",
        "    return 'неизвестная операция'\n",
        "\n",
        "result = calc(int(input('Введите произвольное число a: ')),\n",
        "              int(input('Введите произвольное число b: ')),\n",
        "              input('Введите необходимое действие:'))\n",
        "print('Результат:', result)"
      ],
      "execution_count": null,
      "outputs": [
        {
          "output_type": "stream",
          "name": "stdout",
          "text": [
            "Введите произвольное число a: 2\n",
            "Введите произвольное число b: 5\n",
            "Введите необходимое действие:*\n",
            "Результат: 10\n"
          ]
        }
      ]
    },
    {
      "cell_type": "markdown",
      "source": [
        "### Задание 6\n"
      ],
      "metadata": {
        "id": "pIAW6Dzikdx6"
      }
    },
    {
      "cell_type": "markdown",
      "source": [
        "Напишем функцию, которая выбирает 2-х значные числа из списка с помощью функции filter и возвращает результат новым списком."
      ],
      "metadata": {
        "id": "usx9ZKlMkide"
      }
    },
    {
      "cell_type": "code",
      "source": [
        "lst = [96, 186, 11, 116, 183,  95, 181, 95, 55, 128, 54, 24, 21, 198, 118, 46, 166, 137, 24]"
      ],
      "metadata": {
        "id": "WIVmoCBekwXx"
      },
      "execution_count": null,
      "outputs": []
    },
    {
      "cell_type": "code",
      "source": [
        "new_lst = []\n",
        "for i in lst:\n",
        "  if (int(i) >= 10) and (int(i) < 100):\n",
        "    new_lst.append(int(i))\n",
        "print(new_lst)"
      ],
      "metadata": {
        "id": "uHaVya_kkgG9",
        "colab": {
          "base_uri": "https://localhost:8080/"
        },
        "outputId": "9d84620b-4079-4499-fc6f-498323ad89f3"
      },
      "execution_count": null,
      "outputs": [
        {
          "output_type": "stream",
          "name": "stdout",
          "text": [
            "[96, 11, 95, 95, 55, 54, 24, 21, 46, 24]\n"
          ]
        }
      ]
    },
    {
      "cell_type": "markdown",
      "source": [
        "### Задание 7\n",
        "\n",
        "---\n",
        "\n"
      ],
      "metadata": {
        "id": "nsCdBeJgILRY"
      }
    },
    {
      "cell_type": "markdown",
      "source": [
        "Создайдим в директории `/content` папку `my_folder` и запишем в ней 10 файлов."
      ],
      "metadata": {
        "id": "8o2RoZorXg11"
      }
    },
    {
      "cell_type": "code",
      "source": [
        "import os"
      ],
      "metadata": {
        "id": "E9uMYW4Y07EN"
      },
      "execution_count": null,
      "outputs": []
    },
    {
      "cell_type": "code",
      "source": [
        "# Создание новой папки в текущей директории\n",
        "folder = input('Введите имя папки:')\n",
        "os.makedirs(folder, exist_ok=True)\n",
        "\n",
        "# Переход в созданную папку\n",
        "os.chdir(folder)\n",
        "\n",
        "# Создание 10 файлов в папке\n",
        "for i in range(1, 11):\n",
        "  file_name = f'file_{i}.txt'\n",
        "  with open(file_name, 'w') as file:\n",
        "      file.write(f'Это файл {i}\\n')\n",
        "      print(f'Файл создан {file_name} и записан')\n",
        "\n",
        "# Возвращение в исходную директорию\n",
        "os.chdir('..')\n",
        "print(f'Вернулись в исходную директорию')"
      ],
      "metadata": {
        "id": "9nvA6Lx_XkAi",
        "colab": {
          "base_uri": "https://localhost:8080/"
        },
        "outputId": "0c3c9925-9347-4797-d638-fd614ee56790"
      },
      "execution_count": null,
      "outputs": [
        {
          "output_type": "stream",
          "name": "stdout",
          "text": [
            "Введите имя папки:my_folder\n",
            "Файд создан file_1.txt и записан\n",
            "Файд создан file_2.txt и записан\n",
            "Файд создан file_3.txt и записан\n",
            "Файд создан file_4.txt и записан\n",
            "Файд создан file_5.txt и записан\n",
            "Файд создан file_6.txt и записан\n",
            "Файд создан file_7.txt и записан\n",
            "Файд создан file_8.txt и записан\n",
            "Файд создан file_9.txt и записан\n",
            "Файд создан file_10.txt и записан\n",
            "Вернулись в исходную директорию\n"
          ]
        }
      ]
    },
    {
      "cell_type": "markdown",
      "source": [
        "### Задание 8\n",
        "\n",
        "---\n",
        "\n"
      ],
      "metadata": {
        "id": "4IYJNxu1kDyg"
      }
    },
    {
      "cell_type": "markdown",
      "source": [
        "Создадим код, который применяет функцию map к списку слов и использует анонимную функцию lambda для инвертирования порядка букв в каждом слове.\n",
        "\n",
        "Пример:\n",
        "\n",
        "```\n",
        "было -> ['дом', 'квартира', 'поместье']\n",
        "стало -> ['мод', 'аритравк', 'еьтсемоп']\n",
        "```"
      ],
      "metadata": {
        "id": "4QQNEhwRpWQW"
      }
    },
    {
      "cell_type": "code",
      "source": [
        "lst = ['дом', 'квартира', 'поместье']\n",
        "\n",
        "new_lst = list(map(lambda x: x[::-1], lst))\n",
        "print(f'Было -> {lst}')\n",
        "print(f'Стало -> {new_lst}')"
      ],
      "metadata": {
        "id": "rk98erqe2THv",
        "colab": {
          "base_uri": "https://localhost:8080/"
        },
        "outputId": "2978b590-d45d-4e77-93f7-722882c73f06"
      },
      "execution_count": null,
      "outputs": [
        {
          "output_type": "stream",
          "name": "stdout",
          "text": [
            "Было -> ['дом', 'квартира', 'поместье']\n",
            "Стало -> ['мод', 'аритравк', 'еьтсемоп']\n"
          ]
        }
      ]
    },
    {
      "cell_type": "code",
      "source": [],
      "metadata": {
        "id": "1lQ3vvp7DUI-"
      },
      "execution_count": null,
      "outputs": []
    }
  ]
}